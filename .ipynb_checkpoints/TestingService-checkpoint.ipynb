{
 "cells": [
  {
   "cell_type": "code",
   "execution_count": 1,
   "id": "cf5b4d9f-2985-462a-9cfe-3d4797f8d356",
   "metadata": {
    "tags": []
   },
   "outputs": [],
   "source": [
    "from mlem.api import load\n",
    "from mlem.runtime.client import HTTPClient\n",
    "import numpy as np\n",
    "from mlem.runtime.client import ExecutionError\n",
    "\n",
    "client = HTTPClient(host=\"https://art-expert-shadi.dev\", port=None)"
   ]
  },
  {
   "cell_type": "code",
   "execution_count": 2,
   "id": "06cba600-b8d0-4969-b3ae-4cb5cd76abc6",
   "metadata": {
    "tags": []
   },
   "outputs": [],
   "source": [
    "from glob import glob"
   ]
  },
  {
   "cell_type": "code",
   "execution_count": 3,
   "id": "ce415e5a-9a0c-4fbc-aaec-fc132c42c9c6",
   "metadata": {
    "tags": []
   },
   "outputs": [],
   "source": [
    "client"
   ]
  },
  {
   "cell_type": "code",
   "execution_count": 7,
   "id": "cda37926-bfcb-4621-a216-5eff6921132a",
   "metadata": {
    "tags": []
   },
   "outputs": [],
   "source": [
    "import pandas as pd\n",
    "\n",
    "test = pd.read_csv(\"../Downloads/archive/artDataset.csv\")\n",
    "test.price = test.price.map(lambda x: int(x[:-4].replace(\".\", \"\")))"
   ]
  },
  {
   "cell_type": "code",
   "execution_count": 9,
   "id": "e91d22bd",
   "metadata": {},
   "outputs": [],
   "source": [
    "test.head()"
   ]
  },
  {
   "cell_type": "code",
   "execution_count": 50,
   "id": "81c85583-ae2f-434f-a1ef-64d37b5b1634",
   "metadata": {
    "tags": []
   },
   "outputs": [
    {
     "name": "stdout",
     "output_type": "stream",
     "text": [
      "................E...................................................................................\n",
      "('ValueError: Input 0 of layer \"model\" is incompatible with the layer: expected shape=(None, 224, 224, 3), found shape=(1, 219, 224, 3)', Unnamed: 0                                                     16\n",
      "price                                                        5000\n",
      "artist                                               Anne Appleby\n",
      "title                                                  Cottonwood\n",
      "yearCreation                                                 2012\n",
      "signed                                         Signed lower right\n",
      "condition       This work is in excellent condition, direct fr...\n",
      "period                                               Contemporary\n",
      "movement                                               Minimalism\n",
      "Name: 16, dtype: object)\n",
      "CPU times: user 1.4 s, sys: 276 ms, total: 1.68 s\n",
      "Wall time: 2min 43s\n"
     ]
    }
   ],
   "source": [
    "%%time\n",
    "\n",
    "y_true = []\n",
    "y_pred = []\n",
    "broken = []\n",
    "\n",
    "for i, row in test.head(100).iterrows():\n",
    "    y_true.append(row.price)\n",
    "    img_path = f\"../data/artDataset/artDataset/image_{i+1}.png\"\n",
    "    try:\n",
    "        res = client.predict(img_path)\n",
    "    except ExecutionError as e:\n",
    "        y_pred.append(np.nan)\n",
    "        print(\"E\", end=\"\")\n",
    "        broken.append((e.msg, row))\n",
    "    else:\n",
    "        y_pred.append(res[\"price\"])\n",
    "        print(\".\", end=\"\")\n",
    "\n",
    "print()\n",
    "for b in broken:\n",
    "    print(b)"
   ]
  },
  {
   "cell_type": "code",
   "execution_count": 51,
   "id": "acda0f59-ce11-46a4-a21d-541904084898",
   "metadata": {
    "tags": []
   },
   "outputs": [
    {
     "name": "stderr",
     "output_type": "stream",
     "text": [
      "/var/folders/tv/l60j0x050p536g3bh8g2w1n80000gn/T/ipykernel_62235/3268028309.py:2: RuntimeWarning: invalid value encountered in log10\n",
      "  return np.nanmean((np.log10(y_true) - np.log10(y_pred)) ** 2) ** 0.5\n"
     ]
    },
    {
     "data": {
      "text/plain": [
       "1.2384911801012037"
      ]
     },
     "execution_count": 51,
     "metadata": {},
     "output_type": "execute_result"
    }
   ],
   "source": [
    "def rmsle(y_true, y_pred):\n",
    "    return np.nanmean((np.log10(y_true) - np.log10(y_pred)) ** 2) ** 0.5\n",
    "\n",
    "rmsle(y_true, y_pred)"
   ]
  },
  {
   "cell_type": "code",
   "execution_count": 49,
   "id": "3194f695-ed59-40e5-9d11-5f513ec5610c",
   "metadata": {
    "tags": []
   },
   "outputs": [
    {
     "name": "stderr",
     "output_type": "stream",
     "text": [
      "/Users/aguschin/.pyenv/versions/3.9.5/lib/python3.9/site-packages/pandas/core/internals/blocks.py:351: RuntimeWarning: invalid value encountered in log10\n",
      "  result = func(self.values, **kwargs)\n"
     ]
    },
    {
     "data": {
      "text/plain": [
       "<Axes: ylabel='Frequency'>"
      ]
     },
     "execution_count": 49,
     "metadata": {},
     "output_type": "execute_result"
    },
    {
     "data": {
      "image/png": "[encoded data removed]",
      "text/plain": [
       "<Figure size 720x288 with 1 Axes>"
      ]
     },
     "metadata": {
      "needs_background": "light"
     },
     "output_type": "display_data"
    },
    {
     "data": {
      "image/png": "[encoded data removed]",
      "text/plain": [
       "<Figure size 720x288 with 1 Axes>"
      ]
     },
     "metadata": {
      "needs_background": "light"
     },
     "output_type": "display_data"
    }
   ],
   "source": [
    "preds = pd.DataFrame({'y_true': y_true, 'y_pred': y_pred})\n",
    "kwargs = dict(kind=\"hist\", bins=100, alpha=0.5, figsize=(10, 4))\n",
    "preds.plot(**kwargs)\n",
    "np.log10(preds).plot(**kwargs)"
   ]
  },
  {
   "cell_type": "code",
   "execution_count": null,
   "id": "eafa3b83-53bc-4965-87ca-456525843224",
   "metadata": {},
   "outputs": [],
   "source": []
  },
  {
   "cell_type": "code",
   "execution_count": null,
   "id": "469cc1d4-cecd-49df-8739-cc4db2a5fec2",
   "metadata": {},
   "outputs": [],
   "source": []
  },
  {
   "cell_type": "code",
   "execution_count": null,
   "id": "b08b5758-cf25-4812-aa9a-8b27fc382f6f",
   "metadata": {
    "tags": []
   },
   "outputs": [],
   "source": []
  }
 ],
 "metadata": {
  "kernelspec": {
   "display_name": "Python 3 (ipykernel)",
   "language": "python",
   "name": "python3"
  },
  "language_info": {
   "codemirror_mode": {
    "name": "ipython",
    "version": 3
   },
   "file_extension": ".py",
   "mimetype": "text/x-python",
   "name": "python",
   "nbconvert_exporter": "python",
   "pygments_lexer": "ipython3",
   "version": "3.10.9"
  }
 },
 "nbformat": 4,
 "nbformat_minor": 5
}
