{
 "cells": [
  {
   "cell_type": "code",
   "execution_count": 41,
   "id": "cf5b4d9f-2985-462a-9cfe-3d4797f8d356",
   "metadata": {
    "tags": []
   },
   "outputs": [],
   "source": [
    "from mlem.api import load\n",
    "from mlem.runtime.client import HTTPClient\n",
    "import numpy as np\n",
    "from mlem.runtime.client import ExecutionError\n",
    "\n",
    "client = HTTPClient(host=\"https://art-expert-igor2.fly.dev\", port=None)"
   ]
  },
  {
   "cell_type": "code",
   "execution_count": 19,
   "id": "30489d95",
   "metadata": {},
   "outputs": [
    {
     "name": "stdout",
     "output_type": "stream",
     "text": [
      "Web site exists\n"
     ]
    }
   ],
   "source": [
    "import requests\n",
    "from requests.exceptions import ConnectionError\n",
    "\n",
    "try:\n",
    "    request = requests.get('https://art-expert-igor2.fly.dev/docs')\n",
    "except ConnectionError:\n",
    "    print('Web site does not exist')\n",
    "else:\n",
    "    print('Web site exists')"
   ]
  },
  {
   "cell_type": "code",
   "execution_count": 42,
   "id": "17d8bb2c",
   "metadata": {},
   "outputs": [
    {
     "data": {
      "text/plain": [
       "HTTPClient(interface_cache=InterfaceDescriptor(__root__={'predict': InterfaceMethod(name='predict', args=[InterfaceArgument(data_type=NumpyNdarrayType(value=None, shape=(None, 653, 4), dtype='float32'), serializer=PILImageSerializer(format='jpeg'), name='data', required=True, default=None)], returns=InterfaceDataType(data_type=DictType(value=None, item_types={'price': NumpyNumberType(value=None, dtype='float32')}), serializer=DictSerializer()))}), raw=False, host='https://art-expert-igor2.fly.dev', port=None)"
      ]
     },
     "execution_count": 42,
     "metadata": {},
     "output_type": "execute_result"
    }
   ],
   "source": [
    "client"
   ]
  },
  {
   "cell_type": "code",
   "execution_count": 43,
   "id": "06cba600-b8d0-4969-b3ae-4cb5cd76abc6",
   "metadata": {
    "tags": []
   },
   "outputs": [],
   "source": [
    "from glob import glob"
   ]
  },
  {
   "cell_type": "code",
   "execution_count": 44,
   "id": "ce415e5a-9a0c-4fbc-aaec-fc132c42c9c6",
   "metadata": {
    "tags": []
   },
   "outputs": [
    {
     "data": {
      "text/plain": [
       "HTTPClient(interface_cache=InterfaceDescriptor(__root__={'predict': InterfaceMethod(name='predict', args=[InterfaceArgument(data_type=NumpyNdarrayType(value=None, shape=(None, 653, 4), dtype='float32'), serializer=PILImageSerializer(format='jpeg'), name='data', required=True, default=None)], returns=InterfaceDataType(data_type=DictType(value=None, item_types={'price': NumpyNumberType(value=None, dtype='float32')}), serializer=DictSerializer()))}), raw=False, host='https://art-expert-igor2.fly.dev', port=None)"
      ]
     },
     "execution_count": 44,
     "metadata": {},
     "output_type": "execute_result"
    }
   ],
   "source": [
    "client"
   ]
  },
  {
   "cell_type": "code",
   "execution_count": 45,
   "id": "cda37926-bfcb-4621-a216-5eff6921132a",
   "metadata": {
    "tags": []
   },
   "outputs": [],
   "source": [
    "import pandas as pd\n",
    "\n",
    "test = pd.read_csv(\"../Downloads/archive/artDataset.csv\")\n",
    "test.price = test.price.map(lambda x: int(x[:-4].replace(\".\", \"\")))"
   ]
  },
  {
   "cell_type": "code",
   "execution_count": 46,
   "id": "e91d22bd",
   "metadata": {},
   "outputs": [
    {
     "data": {
      "text/html": [
       "<div>\n",
       "<style scoped>\n",
       "    .dataframe tbody tr th:only-of-type {\n",
       "        vertical-align: middle;\n",
       "    }\n",
       "\n",
       "    .dataframe tbody tr th {\n",
       "        vertical-align: top;\n",
       "    }\n",
       "\n",
       "    .dataframe thead th {\n",
       "        text-align: right;\n",
       "    }\n",
       "</style>\n",
       "<table border=\"1\" class=\"dataframe\">\n",
       "  <thead>\n",
       "    <tr style=\"text-align: right;\">\n",
       "      <th></th>\n",
       "      <th>Unnamed: 0</th>\n",
       "      <th>price</th>\n",
       "      <th>artist</th>\n",
       "      <th>title</th>\n",
       "      <th>yearCreation</th>\n",
       "      <th>signed</th>\n",
       "      <th>condition</th>\n",
       "      <th>period</th>\n",
       "      <th>movement</th>\n",
       "    </tr>\n",
       "  </thead>\n",
       "  <tbody>\n",
       "    <tr>\n",
       "      <th>0</th>\n",
       "      <td>0</td>\n",
       "      <td>28500</td>\n",
       "      <td>Tommaso Ottieri</td>\n",
       "      <td>Bayreuth Opera</td>\n",
       "      <td>2021</td>\n",
       "      <td>Signed on verso</td>\n",
       "      <td>This work is in excellent condition.</td>\n",
       "      <td>Contemporary</td>\n",
       "      <td>Baroque</td>\n",
       "    </tr>\n",
       "    <tr>\n",
       "      <th>1</th>\n",
       "      <td>1</td>\n",
       "      <td>3000</td>\n",
       "      <td>Pavel Tchelitchew</td>\n",
       "      <td>Drawings of the Opera</td>\n",
       "      <td>First Half 20th Century</td>\n",
       "      <td>Signed and titled</td>\n",
       "      <td>Not examined out of frame.No obvious signs of ...</td>\n",
       "      <td>Post-War</td>\n",
       "      <td>Surrealism</td>\n",
       "    </tr>\n",
       "    <tr>\n",
       "      <th>2</th>\n",
       "      <td>2</td>\n",
       "      <td>5000</td>\n",
       "      <td>Leo Gabin</td>\n",
       "      <td>Two on Sidewalk</td>\n",
       "      <td>2016</td>\n",
       "      <td>Signed, titled and dated on verso</td>\n",
       "      <td>This work is in excellent condition.</td>\n",
       "      <td>Contemporary</td>\n",
       "      <td>Abstract</td>\n",
       "    </tr>\n",
       "    <tr>\n",
       "      <th>3</th>\n",
       "      <td>3</td>\n",
       "      <td>5000</td>\n",
       "      <td>Matthias Dornfeld</td>\n",
       "      <td>Blumenszene</td>\n",
       "      <td>2010</td>\n",
       "      <td>Signed, titled and dated on the reverse with t...</td>\n",
       "      <td>This work is in excellent condition.There is m...</td>\n",
       "      <td>Contemporary</td>\n",
       "      <td>Abstract</td>\n",
       "    </tr>\n",
       "    <tr>\n",
       "      <th>4</th>\n",
       "      <td>4</td>\n",
       "      <td>2500</td>\n",
       "      <td>Alexis Marguerite Teplin</td>\n",
       "      <td>Feverish Embarkation</td>\n",
       "      <td>2001</td>\n",
       "      <td>Signed on verso</td>\n",
       "      <td>This work is in excellent condition.</td>\n",
       "      <td>Contemporary</td>\n",
       "      <td>Abstract</td>\n",
       "    </tr>\n",
       "  </tbody>\n",
       "</table>\n",
       "</div>"
      ],
      "text/plain": [
       "   Unnamed: 0  price                    artist                  title  \\\n",
       "0           0  28500           Tommaso Ottieri         Bayreuth Opera   \n",
       "1           1   3000         Pavel Tchelitchew  Drawings of the Opera   \n",
       "2           2   5000                 Leo Gabin        Two on Sidewalk   \n",
       "3           3   5000         Matthias Dornfeld            Blumenszene   \n",
       "4           4   2500  Alexis Marguerite Teplin   Feverish Embarkation   \n",
       "\n",
       "               yearCreation  \\\n",
       "0                      2021   \n",
       "1  First Half 20th Century    \n",
       "2                      2016   \n",
       "3                      2010   \n",
       "4                      2001   \n",
       "\n",
       "                                              signed  \\\n",
       "0                                    Signed on verso   \n",
       "1                                  Signed and titled   \n",
       "2                  Signed, titled and dated on verso   \n",
       "3  Signed, titled and dated on the reverse with t...   \n",
       "4                                    Signed on verso   \n",
       "\n",
       "                                           condition        period    movement  \n",
       "0               This work is in excellent condition.  Contemporary     Baroque  \n",
       "1  Not examined out of frame.No obvious signs of ...      Post-War  Surrealism  \n",
       "2               This work is in excellent condition.  Contemporary    Abstract  \n",
       "3  This work is in excellent condition.There is m...  Contemporary    Abstract  \n",
       "4               This work is in excellent condition.  Contemporary    Abstract  "
      ]
     },
     "execution_count": 46,
     "metadata": {},
     "output_type": "execute_result"
    }
   ],
   "source": [
    "test.head()"
   ]
  },
  {
   "cell_type": "code",
   "execution_count": 64,
   "id": "699aa061",
   "metadata": {},
   "outputs": [
    {
     "data": {
      "text/plain": [
       "HTTPClient(interface_cache=InterfaceDescriptor(__root__={'predict': InterfaceMethod(name='predict', args=[InterfaceArgument(data_type=NumpyNdarrayType(value=None, shape=(None, 653, 4), dtype='float32'), serializer=PILImageSerializer(format='jpeg'), name='data', required=True, default=None)], returns=InterfaceDataType(data_type=DictType(value=None, item_types={'price': NumpyNumberType(value=None, dtype='float32')}), serializer=DictSerializer()))}), raw=False, host='https://art-expert-igor2.fly.dev', port=None)"
      ]
     },
     "execution_count": 64,
     "metadata": {},
     "output_type": "execute_result"
    }
   ],
   "source": [
    "client"
   ]
  },
  {
   "cell_type": "code",
   "execution_count": 78,
   "id": "81c85583-ae2f-434f-a1ef-64d37b5b1634",
   "metadata": {
    "tags": []
   },
   "outputs": [
    {
     "name": "stdout",
     "output_type": "stream",
     "text": [
      "....................................................................................................\n",
      "CPU times: user 1.59 s, sys: 268 ms, total: 1.86 s\n",
      "Wall time: 1min 35s\n"
     ]
    }
   ],
   "source": [
    "%%time\n",
    "\n",
    "y_true = []\n",
    "y_pred = []\n",
    "broken = []\n",
    "\n",
    "for i, row in test.head(100).iterrows():\n",
    "    y_true.append(row.price)\n",
    "    img_path = f\"../Downloads/archive/artDataset/image_{i+1}.png\"\n",
    "    try:\n",
    "        res = client.predict(img_path)\n",
    "    except ExecutionError as e:\n",
    "        y_pred.append(np.nan)\n",
    "        print(\"E\", end=\"\")\n",
    "        broken.append((e.msg, row))\n",
    "    else:\n",
    "        y_pred.append(res[\"price\"])\n",
    "        print(\".\", end=\"\")\n",
    "\n",
    "print()\n",
    "for b in broken:\n",
    "    print(b)"
   ]
  },
  {
   "cell_type": "code",
   "execution_count": 79,
   "id": "a6747eb4",
   "metadata": {},
   "outputs": [
    {
     "data": {
      "text/plain": [
       "0.7552550907162847"
      ]
     },
     "execution_count": 79,
     "metadata": {},
     "output_type": "execute_result"
    }
   ],
   "source": [
    "def rmsle(y_true, y_pred):\n",
    "    return np.nanmean((np.log10(y_true) - np.log10(y_pred)) ** 2) ** 0.5\n",
    "\n",
    "rmsle(y_true, y_pred)\n"
   ]
  },
  {
   "cell_type": "code",
   "execution_count": 80,
   "id": "3194f695-ed59-40e5-9d11-5f513ec5610c",
   "metadata": {
    "tags": []
   },
   "outputs": [
    {
     "data": {
      "text/plain": [
       "<Axes: ylabel='Frequency'>"
      ]
     },
     "execution_count": 80,
     "metadata": {},
     "output_type": "execute_result"
    },
    {
     "data": {
      "image/png": "[encoded data removed]",
      "text/plain": [
       "<Figure size 1000x400 with 1 Axes>"
      ]
     },
     "metadata": {},
     "output_type": "display_data"
    },
    {
     "data": {
      "image/png": "[encoded data removed]",
      "text/plain": [
       "<Figure size 1000x400 with 1 Axes>"
      ]
     },
     "metadata": {},
     "output_type": "display_data"
    }
   ],
   "source": [
    "preds = pd.DataFrame({'y_true': y_true, 'y_pred': y_pred})\n",
    "kwargs = dict(kind=\"hist\", bins=100, alpha=0.5, figsize=(10, 4))\n",
    "preds.plot(**kwargs)\n",
    "np.log10(preds).plot(**kwargs)"
   ]
  },
  {
   "cell_type": "code",
   "execution_count": null,
   "id": "eafa3b83-53bc-4965-87ca-456525843224",
   "metadata": {},
   "outputs": [],
   "source": []
  },
  {
   "cell_type": "code",
   "execution_count": null,
   "id": "469cc1d4-cecd-49df-8739-cc4db2a5fec2",
   "metadata": {},
   "outputs": [],
   "source": []
  },
  {
   "cell_type": "code",
   "execution_count": null,
   "id": "b08b5758-cf25-4812-aa9a-8b27fc382f6f",
   "metadata": {
    "tags": []
   },
   "outputs": [],
   "source": []
  }
 ],
 "metadata": {
  "kernelspec": {
   "display_name": "Python 3 (ipykernel)",
   "language": "python",
   "name": "python3"
  },
  "language_info": {
   "codemirror_mode": {
    "name": "ipython",
    "version": 3
   },
   "file_extension": ".py",
   "mimetype": "text/x-python",
   "name": "python",
   "nbconvert_exporter": "python",
   "pygments_lexer": "ipython3",
   "version": "3.10.9"
  }
 },
 "nbformat": 4,
 "nbformat_minor": 5
}
